{
 "cells": [
  {
   "cell_type": "code",
   "execution_count": 0,
   "metadata": {
    "application/vnd.databricks.v1+cell": {
     "cellMetadata": {
      "byteLimit": 2048000,
      "rowLimit": 10000
     },
     "inputWidgets": {},
     "nuid": "3edacd27-e117-4dee-b244-1c48ae3f3bfa",
     "showTitle": false,
     "tableResultSettingsMap": {},
     "title": ""
    }
   },
   "outputs": [],
   "source": [
    "%run \"/Workspace/Projects/formula1/Data Ingestion/Prod/01-setup\""
   ]
  },
  {
   "cell_type": "code",
   "execution_count": 0,
   "metadata": {
    "application/vnd.databricks.v1+cell": {
     "cellMetadata": {
      "byteLimit": 2048000,
      "rowLimit": 10000
     },
     "inputWidgets": {},
     "nuid": "d4aa74c0-46e6-4470-a681-0f48dacb44a5",
     "showTitle": false,
     "tableResultSettingsMap": {},
     "title": ""
    }
   },
   "outputs": [],
   "source": [
    "%run \"/Workspace/Projects/formula1/Data Ingestion/Prod/02-common_functions\""
   ]
  },
  {
   "cell_type": "code",
   "execution_count": 0,
   "metadata": {
    "application/vnd.databricks.v1+cell": {
     "cellMetadata": {
      "byteLimit": 2048000,
      "rowLimit": 10000
     },
     "inputWidgets": {},
     "nuid": "e3c05dae-a85a-4e04-a053-d081a5f6eebd",
     "showTitle": false,
     "tableResultSettingsMap": {},
     "title": ""
    }
   },
   "outputs": [],
   "source": [
    "from pyspark.sql.types import StructType, StructField, IntegerType, StringType, FloatType\n",
    "from pyspark.sql.functions import current_timestamp"
   ]
  },
  {
   "cell_type": "code",
   "execution_count": 0,
   "metadata": {
    "application/vnd.databricks.v1+cell": {
     "cellMetadata": {
      "byteLimit": 2048000,
      "rowLimit": 10000
     },
     "inputWidgets": {},
     "nuid": "1276474e-6764-4328-a038-da7223396f16",
     "showTitle": false,
     "tableResultSettingsMap": {},
     "title": ""
    }
   },
   "outputs": [],
   "source": [
    "results_schema = StructType(fields=[StructField(\"resultId\", IntegerType(), False),\n",
    "                                     StructField(\"raceId\", IntegerType(), True),\n",
    "                                     StructField(\"driverId\", IntegerType(), True),\n",
    "                                     StructField(\"constructorId\", IntegerType(), True),\n",
    "                                     StructField(\"number\", IntegerType(), True),\n",
    "                                     StructField(\"grid\", IntegerType(), True),\n",
    "                                     StructField(\"position\", IntegerType(), True),\n",
    "                                     StructField(\"positionText\", StringType(), True),\n",
    "                                     StructField(\"positionOrder\", IntegerType(), True),\n",
    "                                     StructField(\"points\", FloatType(), True),\n",
    "                                     StructField(\"laps\", IntegerType(), True),\n",
    "                                     StructField(\"time\", StringType(), True),\n",
    "                                     StructField(\"milliseconds\", IntegerType(), True),\n",
    "                                     StructField(\"fastestLap\", IntegerType(), True),\n",
    "                                     StructField(\"rank\", IntegerType(), True),\n",
    "                                     StructField(\"fastestLapTime\", StringType(), True),\n",
    "                                     StructField(\"fastestLapSpeed\", FloatType(), True),\n",
    "                                     StructField(\"statusId\", StringType(), True)])"
   ]
  },
  {
   "cell_type": "code",
   "execution_count": 0,
   "metadata": {
    "application/vnd.databricks.v1+cell": {
     "cellMetadata": {
      "byteLimit": 2048000,
      "rowLimit": 10000
     },
     "inputWidgets": {},
     "nuid": "a9c92834-3f0e-4f8d-bac2-2565f8007547",
     "showTitle": false,
     "tableResultSettingsMap": {},
     "title": ""
    }
   },
   "outputs": [],
   "source": [
    "results_df=spark.read.json(f'{raw_folder_path}/results.json', schema=results_schema)\n"
   ]
  },
  {
   "cell_type": "code",
   "execution_count": 0,
   "metadata": {
    "application/vnd.databricks.v1+cell": {
     "cellMetadata": {
      "byteLimit": 2048000,
      "rowLimit": 10000
     },
     "inputWidgets": {},
     "nuid": "efc595bd-f959-4bef-9c9c-8cb8e087bb98",
     "showTitle": false,
     "tableResultSettingsMap": {},
     "title": ""
    }
   },
   "outputs": [],
   "source": [
    "results_renamed_df=results_df.withColumnRenamed('resultId', 'result_id')\\\n",
    "                             .withColumnRenamed('raceId', 'race_id')\\\n",
    "                             .withColumnRenamed('driverId', 'driver_id')\\\n",
    "                             .withColumnRenamed('constructorId', 'constructor_id')\\\n",
    "                             .withColumnRenamed('positionText', 'position_text')\\\n",
    "                             .withColumnRenamed('positionOrder', 'position_order')\\\n",
    "                             .withColumnRenamed('fastestLap', 'fastest_lap')\\\n",
    "                             .withColumnRenamed('fastestLapTime', 'fastest_lap_time')\\\n",
    "                             .withColumnRenamed('fastestLapSpeed', 'fastest_lap_speed')\\\n",
    "                             .withColumn('ingestion_date', current_timestamp())\\\n",
    "                             .withColumnRenamed('statusId', 'status_id')\\\n",
    "                             .withColumn(\"data_source\",lit(\"v_data_source\"))\n"
   ]
  },
  {
   "cell_type": "code",
   "execution_count": 0,
   "metadata": {
    "application/vnd.databricks.v1+cell": {
     "cellMetadata": {
      "byteLimit": 2048000,
      "rowLimit": 10000
     },
     "inputWidgets": {},
     "nuid": "63781de9-dbba-40e8-aa06-6f1895a10005",
     "showTitle": false,
     "tableResultSettingsMap": {},
     "title": ""
    }
   },
   "outputs": [],
   "source": [
    "results_renamed_df.write.mode('overwrite').partitionBy('race_id')\\\n",
    "                        .parquet(f'{processed_folder_path}/results')"
   ]
  },
  {
   "cell_type": "code",
   "execution_count": 0,
   "metadata": {
    "application/vnd.databricks.v1+cell": {
     "cellMetadata": {},
     "inputWidgets": {},
     "nuid": "44444368-7190-419f-9577-36f1b2506fa2",
     "showTitle": false,
     "tableResultSettingsMap": {},
     "title": ""
    }
   },
   "outputs": [],
   "source": [
    "dbutils.notebook.exit(\"Succeed\")"
   ]
  }
 ],
 "metadata": {
  "application/vnd.databricks.v1+notebook": {
   "computePreferences": null,
   "dashboards": [],
   "environmentMetadata": {
    "base_environment": "",
    "environment_version": "2"
   },
   "inputWidgetPreferences": null,
   "language": "python",
   "notebookMetadata": {
    "pythonIndentUnit": 4
   },
   "notebookName": "5.Ingest_reults",
   "widgets": {}
  },
  "language_info": {
   "name": "python"
  }
 },
 "nbformat": 4,
 "nbformat_minor": 0
}