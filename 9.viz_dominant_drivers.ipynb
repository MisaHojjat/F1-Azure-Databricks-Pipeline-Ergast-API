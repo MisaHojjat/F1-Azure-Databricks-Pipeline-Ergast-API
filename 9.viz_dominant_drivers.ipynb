{
 "cells": [
  {
   "cell_type": "code",
   "execution_count": 0,
   "metadata": {
    "application/vnd.databricks.v1+cell": {
     "cellMetadata": {
      "byteLimit": 2048000,
      "rowLimit": 10000
     },
     "inputWidgets": {},
     "nuid": "a2ce1f3d-a86d-44b9-a60c-4d0b1ea6796e",
     "showTitle": false,
     "tableResultSettingsMap": {},
     "title": ""
    }
   },
   "outputs": [
    {
     "output_type": "display_data",
     "data": {
      "text/html": [
       "<h1 style=\"color:Black;text-align:center;font-family:Ariel\">Report on Dominant Formula 1 Drivers </h1>"
      ]
     },
     "metadata": {
      "application/vnd.databricks.v1+output": {
       "addedWidgets": {},
       "arguments": {},
       "data": "<h1 style=\"color:Black;text-align:center;font-family:Ariel\">Report on Dominant Formula 1 Drivers </h1>",
       "datasetInfos": [],
       "metadata": {},
       "removedWidgets": [],
       "textData": null,
       "type": "htmlSandbox"
      }
     },
     "output_type": "display_data"
    }
   ],
   "source": [
    "%python\n",
    "html = \"\"\"<h1 style=\"color:Black;text-align:center;font-family:Ariel\">Report on Dominant Formula 1 Drivers </h1>\"\"\"\n",
    "displayHTML(html)"
   ]
  },
  {
   "cell_type": "code",
   "execution_count": 0,
   "metadata": {
    "application/vnd.databricks.v1+cell": {
     "cellMetadata": {
      "byteLimit": 2048000,
      "rowLimit": 10000
     },
     "inputWidgets": {},
     "nuid": "39999cb9-33cc-48f5-8f51-86f24eb51e3b",
     "showTitle": false,
     "tableResultSettingsMap": {},
     "title": ""
    }
   },
   "outputs": [
    {
     "output_type": "display_data",
     "data": {
      "text/html": [
       "<style scoped>\n",
       "  .table-result-container {\n",
       "    max-height: 300px;\n",
       "    overflow: auto;\n",
       "  }\n",
       "  table, th, td {\n",
       "    border: 1px solid black;\n",
       "    border-collapse: collapse;\n",
       "  }\n",
       "  th, td {\n",
       "    padding: 5px;\n",
       "  }\n",
       "  th {\n",
       "    text-align: left;\n",
       "  }\n",
       "</style><div class='table-result-container'><table class='table-result'><thead style='background-color: white'><tr></tr></thead><tbody></tbody></table></div>"
      ]
     },
     "metadata": {
      "application/vnd.databricks.v1+output": {
       "addedWidgets": {},
       "aggData": [],
       "aggError": "",
       "aggOverflow": false,
       "aggSchema": [],
       "aggSeriesLimitReached": false,
       "aggType": "",
       "arguments": {},
       "columnCustomDisplayInfos": {},
       "data": [],
       "datasetInfos": [],
       "dbfsResultPath": null,
       "isJsonSchema": true,
       "metadata": {
        "isDbfsCommandResult": false
       },
       "overflow": false,
       "plotOptions": {
        "customPlotOptions": {},
        "displayType": "table",
        "pivotAggregation": null,
        "pivotColumns": null,
        "xColumns": null,
        "yColumns": null
       },
       "removedWidgets": [],
       "schema": [],
       "type": "table"
      }
     },
     "output_type": "display_data"
    }
   ],
   "source": [
    "CREATE OR REPLACE TEMP VIEW v_dominant_drivers\n",
    "AS\n",
    "SELECT driver_name,\n",
    "       COUNT(1) AS total_races,\n",
    "       SUM(points) AS total_points,\n",
    "       AVG(points) AS avg_points,\n",
    "       RANK() OVER(ORDER BY AVG(points) DESC) driver_rank\n",
    "  FROM f1_processed.race_results\n",
    "GROUP BY driver_name\n",
    "HAVING COUNT(1) >= 50\n",
    "ORDER BY avg_points DESC"
   ]
  },
  {
   "cell_type": "code",
   "execution_count": 0,
   "metadata": {
    "application/vnd.databricks.v1+cell": {
     "cellMetadata": {
      "byteLimit": 2048000,
      "rowLimit": 10000
     },
     "inputWidgets": {},
     "nuid": "0fd26a30-1730-42ee-8fc6-8f13783d7b98",
     "showTitle": false,
     "tableResultSettingsMap": {},
     "title": ""
    }
   },
   "outputs": [
    {
     "output_type": "display_data",
     "data": {
      "text/html": [
       "<style scoped>\n",
       "  .table-result-container {\n",
       "    max-height: 300px;\n",
       "    overflow: auto;\n",
       "  }\n",
       "  table, th, td {\n",
       "    border: 1px solid black;\n",
       "    border-collapse: collapse;\n",
       "  }\n",
       "  th, td {\n",
       "    padding: 5px;\n",
       "  }\n",
       "  th {\n",
       "    text-align: left;\n",
       "  }\n",
       "</style><div class='table-result-container'><table class='table-result'><thead style='background-color: white'><tr><th>driver_name</th><th>tot_race</th><th>tot_points</th><th>avg_points</th></tr></thead><tbody><tr><td>Lewis Hamilton</td><td>266</td><td>3778.0</td><td>14.2</td></tr><tr><td>Sebastian Vettel</td><td>258</td><td>3018.0</td><td>11.7</td></tr><tr><td>Fernando Alonso</td><td>314</td><td>1899.0</td><td>6.05</td></tr><tr><td>Kimi Räikkönen</td><td>332</td><td>1863.0</td><td>5.61</td></tr><tr><td>Nico Rosberg</td><td>206</td><td>1594.5</td><td>7.74</td></tr><tr><td>Michael Schumacher</td><td>308</td><td>1566.0</td><td>5.08</td></tr><tr><td>Valtteri Bottas</td><td>157</td><td>1512.0</td><td>9.63</td></tr><tr><td>Jenson Button</td><td>309</td><td>1235.0</td><td>4.0</td></tr><tr><td>Felipe Massa</td><td>271</td><td>1167.0</td><td>4.31</td></tr><tr><td>Max Verstappen</td><td>119</td><td>1162.0</td><td>9.76</td></tr><tr><td>Daniel Ricciardo</td><td>188</td><td>1159.0</td><td>6.16</td></tr><tr><td>Mark Webber</td><td>217</td><td>1047.5</td><td>4.83</td></tr><tr><td>Alain Prost</td><td>202</td><td>798.5</td><td>3.95</td></tr><tr><td>Sergio Pérez</td><td>193</td><td>706.0</td><td>3.66</td></tr><tr><td>Rubens Barrichello</td><td>326</td><td>658.0</td><td>2.02</td></tr><tr><td>Ayrton Senna</td><td>162</td><td>614.0</td><td>3.79</td></tr><tr><td>David Coulthard</td><td>247</td><td>535.0</td><td>2.17</td></tr><tr><td>Nico Hülkenberg</td><td>182</td><td>521.0</td><td>2.86</td></tr><tr><td>Nelson Piquet</td><td>207</td><td>485.5</td><td>2.35</td></tr><tr><td>Nigel Mansell</td><td>192</td><td>482.0</td><td>2.51</td></tr><tr><td>Niki Lauda</td><td>174</td><td>420.5</td><td>2.42</td></tr><tr><td>Mika Häkkinen</td><td>165</td><td>420.0</td><td>2.55</td></tr><tr><td>Charles Leclerc</td><td>59</td><td>401.0</td><td>6.8</td></tr><tr><td>Romain Grosjean</td><td>181</td><td>391.0</td><td>2.16</td></tr><tr><td>Gerhard Berger</td><td>210</td><td>385.0</td><td>1.83</td></tr><tr><td>Carlos Sainz</td><td>119</td><td>372.0</td><td>3.13</td></tr><tr><td>Damon Hill</td><td>122</td><td>360.0</td><td>2.95</td></tr><tr><td>Jackie Stewart</td><td>100</td><td>360.0</td><td>3.6</td></tr><tr><td>Ralf Schumacher</td><td>180</td><td>329.0</td><td>1.83</td></tr><tr><td>Carlos Reutemann</td><td>146</td><td>310.0</td><td>2.12</td></tr><tr><td>Juan Pablo Montoya</td><td>95</td><td>307.0</td><td>3.23</td></tr><tr><td>Graham Hill</td><td>179</td><td>289.0</td><td>1.61</td></tr><tr><td>Riccardo Patrese</td><td>257</td><td>281.0</td><td>1.09</td></tr><tr><td>Emerson Fittipaldi</td><td>149</td><td>281.0</td><td>1.89</td></tr><tr><td>Juan Fangio</td><td>58</td><td>279.1400001049042</td><td>4.81</td></tr><tr><td>Giancarlo Fisichella</td><td>231</td><td>275.0</td><td>1.19</td></tr><tr><td>Robert Kubica</td><td>97</td><td>274.0</td><td>2.82</td></tr><tr><td>Jim Clark</td><td>73</td><td>274.0</td><td>3.75</td></tr><tr><td>Jack Brabham</td><td>129</td><td>261.0</td><td>2.02</td></tr><tr><td>Nick Heidfeld</td><td>184</td><td>259.0</td><td>1.41</td></tr><tr><td>Jody Scheckter</td><td>113</td><td>255.0</td><td>2.26</td></tr><tr><td>Denny Hulme</td><td>112</td><td>248.0</td><td>2.21</td></tr><tr><td>Jarno Trulli</td><td>256</td><td>246.5</td><td>0.96</td></tr><tr><td>Jean Alesi</td><td>202</td><td>241.0</td><td>1.19</td></tr><tr><td>Jacques Villeneuve</td><td>165</td><td>235.0</td><td>1.42</td></tr><tr><td>Jacques Laffite</td><td>180</td><td>228.0</td><td>1.27</td></tr><tr><td>Clay Regazzoni</td><td>138</td><td>212.0</td><td>1.54</td></tr><tr><td>Alan Jones</td><td>117</td><td>206.0</td><td>1.76</td></tr><tr><td>Ronnie Peterson</td><td>123</td><td>206.0</td><td>1.67</td></tr><tr><td>Daniil Kvyat</td><td>112</td><td>202.0</td><td>1.8</td></tr><tr><td>Pierre Gasly</td><td>64</td><td>199.0</td><td>3.11</td></tr><tr><td>Esteban Ocon</td><td>67</td><td>198.0</td><td>2.96</td></tr><tr><td>Bruce McLaren</td><td>103</td><td>196.5</td><td>1.91</td></tr><tr><td>Eddie Irvine</td><td>147</td><td>191.0</td><td>1.3</td></tr><tr><td>Michele Alboreto</td><td>215</td><td>186.5</td><td>0.87</td></tr><tr><td>Stirling Moss</td><td>73</td><td>186.5</td><td>2.55</td></tr><tr><td>René Arnoux</td><td>164</td><td>181.0</td><td>1.1</td></tr><tr><td>Jacky Ickx</td><td>121</td><td>181.0</td><td>1.5</td></tr><tr><td>John Surtees</td><td>112</td><td>180.0</td><td>1.61</td></tr><tr><td>Mario Andretti</td><td>129</td><td>180.0</td><td>1.4</td></tr><tr><td>James Hunt</td><td>93</td><td>179.0</td><td>1.92</td></tr><tr><td>Heinz-Harald Frentzen</td><td>159</td><td>174.0</td><td>1.09</td></tr><tr><td>John Watson</td><td>154</td><td>169.0</td><td>1.1</td></tr><tr><td>Keke Rosberg</td><td>128</td><td>159.5</td><td>1.25</td></tr><tr><td>Kevin Magnussen</td><td>120</td><td>158.0</td><td>1.32</td></tr><tr><td>Lance Stroll</td><td>78</td><td>142.0</td><td>1.82</td></tr><tr><td>Patrick Depailler</td><td>95</td><td>141.0</td><td>1.48</td></tr><tr><td>Dan Gurney</td><td>87</td><td>133.0</td><td>1.53</td></tr><tr><td>Thierry Boutsen</td><td>164</td><td>132.0</td><td>0.8</td></tr><tr><td>Kamui Kobayashi</td><td>76</td><td>125.0</td><td>1.64</td></tr><tr><td>Adrian Sutil</td><td>128</td><td>124.0</td><td>0.97</td></tr><tr><td>Elio de Angelis</td><td>110</td><td>122.0</td><td>1.11</td></tr><tr><td>Paul di Resta</td><td>59</td><td>121.0</td><td>2.05</td></tr><tr><td>Jochen Rindt</td><td>62</td><td>109.0</td><td>1.76</td></tr><tr><td>Gilles Villeneuve</td><td>68</td><td>107.0</td><td>1.57</td></tr><tr><td>Richie Ginther</td><td>54</td><td>107.0</td><td>1.98</td></tr><tr><td>Heikki Kovalainen</td><td>112</td><td>105.0</td><td>0.94</td></tr><tr><td>Patrick Tambay</td><td>122</td><td>103.0</td><td>0.84</td></tr><tr><td>Didier Pironi</td><td>72</td><td>101.0</td><td>1.4</td></tr><tr><td>Martin Brundle</td><td>165</td><td>98.0</td><td>0.59</td></tr><tr><td>Johnny Herbert</td><td>165</td><td>98.0</td><td>0.59</td></tr><tr><td>Phil Hill</td><td>52</td><td>98.0</td><td>1.88</td></tr><tr><td>Stefan Johansson</td><td>103</td><td>88.0</td><td>0.85</td></tr><tr><td>Chris Amon</td><td>106</td><td>83.0</td><td>0.78</td></tr><tr><td>Jean-Pierre Beltoise</td><td>87</td><td>77.0</td><td>0.89</td></tr><tr><td>Olivier Panis</td><td>158</td><td>76.0</td><td>0.48</td></tr><tr><td>Pastor Maldonado</td><td>96</td><td>76.0</td><td>0.79</td></tr><tr><td>Maurice Trintignant</td><td>87</td><td>72.33000004291534</td><td>0.83</td></tr><tr><td>Derek Warwick</td><td>162</td><td>71.0</td><td>0.44</td></tr><tr><td>Pedro Rodríguez</td><td>54</td><td>71.0</td><td>1.31</td></tr><tr><td>Jochen Mass</td><td>114</td><td>71.0</td><td>0.62</td></tr><tr><td>Eddie Cheever</td><td>143</td><td>70.0</td><td>0.49</td></tr><tr><td>Jo Siffert</td><td>100</td><td>68.0</td><td>0.68</td></tr><tr><td>Alessandro Nannini</td><td>77</td><td>65.0</td><td>0.84</td></tr><tr><td>Vitaly Petrov</td><td>58</td><td>64.0</td><td>1.1</td></tr><tr><td>Andrea de Cesaris</td><td>214</td><td>59.0</td><td>0.28</td></tr><tr><td>Carlos Pace</td><td>73</td><td>58.0</td><td>0.79</td></tr><tr><td>Timo Glock</td><td>95</td><td>51.0</td><td>0.54</td></tr><tr><td>Jean-Éric Vergne</td><td>58</td><td>51.0</td><td>0.88</td></tr><tr><td>Jean Behra</td><td>57</td><td>51.0</td><td>0.89</td></tr><tr><td>Innes Ireland</td><td>55</td><td>47.0</td><td>0.85</td></tr><tr><td>Alexander Wurz</td><td>69</td><td>45.0</td><td>0.65</td></tr><tr><td>Takuma Sato</td><td>91</td><td>44.0</td><td>0.48</td></tr><tr><td>Jo Bonnier</td><td>109</td><td>39.0</td><td>0.36</td></tr><tr><td>Pedro de la Rosa</td><td>107</td><td>35.0</td><td>0.33</td></tr><tr><td>Mika Salo</td><td>111</td><td>33.0</td><td>0.3</td></tr><tr><td>Mark Blundell</td><td>63</td><td>32.0</td><td>0.51</td></tr><tr><td>Harry Schell</td><td>64</td><td>32.0</td><td>0.5</td></tr><tr><td>Jean-Pierre Jarier</td><td>143</td><td>31.5</td><td>0.22</td></tr><tr><td>Ivan Capelli</td><td>98</td><td>31.0</td><td>0.32</td></tr><tr><td>Mike Hailwood</td><td>51</td><td>29.0</td><td>0.57</td></tr><tr><td>Hans-Joachim Stuck</td><td>81</td><td>29.0</td><td>0.36</td></tr><tr><td>Sébastien Buemi</td><td>55</td><td>29.0</td><td>0.53</td></tr><tr><td>Vitantonio Liuzzi</td><td>81</td><td>26.0</td><td>0.32</td></tr><tr><td>Teo Fabi</td><td>71</td><td>23.0</td><td>0.32</td></tr><tr><td>Jean-Pierre Jabouille</td><td>55</td><td>21.0</td><td>0.38</td></tr><tr><td>Roy Salvadori</td><td>51</td><td>19.0</td><td>0.37</td></tr><tr><td>Pierluigi Martini</td><td>123</td><td>18.0</td><td>0.15</td></tr><tr><td>Marcus Ericsson</td><td>97</td><td>18.0</td><td>0.19</td></tr><tr><td>Stefano Modena</td><td>81</td><td>17.0</td><td>0.21</td></tr><tr><td>Jos Verstappen</td><td>107</td><td>17.0</td><td>0.16</td></tr><tr><td>Marc Surer</td><td>88</td><td>17.0</td><td>0.19</td></tr><tr><td>Satoru Nakajima</td><td>80</td><td>16.0</td><td>0.2</td></tr><tr><td>Vittorio Brambilla</td><td>78</td><td>15.5</td><td>0.2</td></tr><tr><td>Roberto Moreno</td><td>74</td><td>15.0</td><td>0.2</td></tr><tr><td>Derek Daly</td><td>64</td><td>15.0</td><td>0.23</td></tr><tr><td>Bruno Giacomelli</td><td>82</td><td>14.0</td><td>0.17</td></tr><tr><td>Christian Klien</td><td>51</td><td>14.0</td><td>0.27</td></tr><tr><td>Jonathan Palmer</td><td>88</td><td>14.0</td><td>0.16</td></tr><tr><td>Rolf Stommelen</td><td>61</td><td>14.0</td><td>0.23</td></tr><tr><td>Hector Rebaque</td><td>58</td><td>13.0</td><td>0.22</td></tr><tr><td>Jackie Oliver</td><td>51</td><td>13.0</td><td>0.25</td></tr><tr><td>Henri Pescarolo</td><td>59</td><td>12.0</td><td>0.2</td></tr><tr><td>Philippe Streiff</td><td>54</td><td>11.0</td><td>0.2</td></tr><tr><td>Arturo Merzario</td><td>84</td><td>11.0</td><td>0.13</td></tr><tr><td>Maurício Gugelmin</td><td>80</td><td>10.0</td><td>0.13</td></tr><tr><td>Jyrki Järvilehto</td><td>70</td><td>10.0</td><td>0.14</td></tr><tr><td>Pedro Diniz</td><td>99</td><td>10.0</td><td>0.1</td></tr><tr><td>Gianni Morbidelli</td><td>70</td><td>8.5</td><td>0.12</td></tr><tr><td>Aguri Suzuki</td><td>88</td><td>8.0</td><td>0.09</td></tr><tr><td>Érik Comas</td><td>63</td><td>7.0</td><td>0.11</td></tr><tr><td>Philippe Alliot</td><td>115</td><td>7.0</td><td>0.06</td></tr><tr><td>Nicola Larini</td><td>75</td><td>7.0</td><td>0.09</td></tr><tr><td>Alex Caffi</td><td>75</td><td>6.0</td><td>0.08</td></tr><tr><td>Esteban Gutiérrez</td><td>59</td><td>6.0</td><td>0.1</td></tr><tr><td>Bertrand Gachot</td><td>84</td><td>5.0</td><td>0.06</td></tr><tr><td>Ukyo Katayama</td><td>97</td><td>5.0</td><td>0.05</td></tr><tr><td>Piercarlo Ghinzani</td><td>111</td><td>2.0</td><td>0.02</td></tr><tr><td>Manfred Winkelhock</td><td>55</td><td>2.0</td><td>0.04</td></tr><tr><td>Olivier Grouillard</td><td>62</td><td>1.0</td><td>0.02</td></tr><tr><td>Gabriele Tarquini</td><td>78</td><td>1.0</td><td>0.01</td></tr><tr><td>Yannick Dalmas</td><td>50</td><td>0.0</td><td>0.0</td></tr><tr><td>Luca Badoer</td><td>58</td><td>0.0</td><td>0.0</td></tr></tbody></table></div>"
      ]
     },
     "metadata": {
      "application/vnd.databricks.v1+output": {
       "addedWidgets": {},
       "aggData": [],
       "aggError": "",
       "aggOverflow": false,
       "aggSchema": [],
       "aggSeriesLimitReached": false,
       "aggType": "",
       "arguments": {},
       "columnCustomDisplayInfos": {},
       "data": [
        [
         "Lewis Hamilton",
         266,
         3778.0,
         14.2
        ],
        [
         "Sebastian Vettel",
         258,
         3018.0,
         11.7
        ],
        [
         "Fernando Alonso",
         314,
         1899.0,
         6.05
        ],
        [
         "Kimi Räikkönen",
         332,
         1863.0,
         5.61
        ],
        [
         "Nico Rosberg",
         206,
         1594.5,
         7.74
        ],
        [
         "Michael Schumacher",
         308,
         1566.0,
         5.08
        ],
        [
         "Valtteri Bottas",
         157,
         1512.0,
         9.63
        ],
        [
         "Jenson Button",
         309,
         1235.0,
         4.0
        ],
        [
         "Felipe Massa",
         271,
         1167.0,
         4.31
        ],
        [
         "Max Verstappen",
         119,
         1162.0,
         9.76
        ],
        [
         "Daniel Ricciardo",
         188,
         1159.0,
         6.16
        ],
        [
         "Mark Webber",
         217,
         1047.5,
         4.83
        ],
        [
         "Alain Prost",
         202,
         798.5,
         3.95
        ],
        [
         "Sergio Pérez",
         193,
         706.0,
         3.66
        ],
        [
         "Rubens Barrichello",
         326,
         658.0,
         2.02
        ],
        [
         "Ayrton Senna",
         162,
         614.0,
         3.79
        ],
        [
         "David Coulthard",
         247,
         535.0,
         2.17
        ],
        [
         "Nico Hülkenberg",
         182,
         521.0,
         2.86
        ],
        [
         "Nelson Piquet",
         207,
         485.5,
         2.35
        ],
        [
         "Nigel Mansell",
         192,
         482.0,
         2.51
        ],
        [
         "Niki Lauda",
         174,
         420.5,
         2.42
        ],
        [
         "Mika Häkkinen",
         165,
         420.0,
         2.55
        ],
        [
         "Charles Leclerc",
         59,
         401.0,
         6.8
        ],
        [
         "Romain Grosjean",
         181,
         391.0,
         2.16
        ],
        [
         "Gerhard Berger",
         210,
         385.0,
         1.83
        ],
        [
         "Carlos Sainz",
         119,
         372.0,
         3.13
        ],
        [
         "Damon Hill",
         122,
         360.0,
         2.95
        ],
        [
         "Jackie Stewart",
         100,
         360.0,
         3.6
        ],
        [
         "Ralf Schumacher",
         180,
         329.0,
         1.83
        ],
        [
         "Carlos Reutemann",
         146,
         310.0,
         2.12
        ],
        [
         "Juan Pablo Montoya",
         95,
         307.0,
         3.23
        ],
        [
         "Graham Hill",
         179,
         289.0,
         1.61
        ],
        [
         "Riccardo Patrese",
         257,
         281.0,
         1.09
        ],
        [
         "Emerson Fittipaldi",
         149,
         281.0,
         1.89
        ],
        [
         "Juan Fangio",
         58,
         279.1400001049042,
         4.81
        ],
        [
         "Giancarlo Fisichella",
         231,
         275.0,
         1.19
        ],
        [
         "Robert Kubica",
         97,
         274.0,
         2.82
        ],
        [
         "Jim Clark",
         73,
         274.0,
         3.75
        ],
        [
         "Jack Brabham",
         129,
         261.0,
         2.02
        ],
        [
         "Nick Heidfeld",
         184,
         259.0,
         1.41
        ],
        [
         "Jody Scheckter",
         113,
         255.0,
         2.26
        ],
        [
         "Denny Hulme",
         112,
         248.0,
         2.21
        ],
        [
         "Jarno Trulli",
         256,
         246.5,
         0.96
        ],
        [
         "Jean Alesi",
         202,
         241.0,
         1.19
        ],
        [
         "Jacques Villeneuve",
         165,
         235.0,
         1.42
        ],
        [
         "Jacques Laffite",
         180,
         228.0,
         1.27
        ],
        [
         "Clay Regazzoni",
         138,
         212.0,
         1.54
        ],
        [
         "Alan Jones",
         117,
         206.0,
         1.76
        ],
        [
         "Ronnie Peterson",
         123,
         206.0,
         1.67
        ],
        [
         "Daniil Kvyat",
         112,
         202.0,
         1.8
        ],
        [
         "Pierre Gasly",
         64,
         199.0,
         3.11
        ],
        [
         "Esteban Ocon",
         67,
         198.0,
         2.96
        ],
        [
         "Bruce McLaren",
         103,
         196.5,
         1.91
        ],
        [
         "Eddie Irvine",
         147,
         191.0,
         1.3
        ],
        [
         "Michele Alboreto",
         215,
         186.5,
         0.87
        ],
        [
         "Stirling Moss",
         73,
         186.5,
         2.55
        ],
        [
         "René Arnoux",
         164,
         181.0,
         1.1
        ],
        [
         "Jacky Ickx",
         121,
         181.0,
         1.5
        ],
        [
         "John Surtees",
         112,
         180.0,
         1.61
        ],
        [
         "Mario Andretti",
         129,
         180.0,
         1.4
        ],
        [
         "James Hunt",
         93,
         179.0,
         1.92
        ],
        [
         "Heinz-Harald Frentzen",
         159,
         174.0,
         1.09
        ],
        [
         "John Watson",
         154,
         169.0,
         1.1
        ],
        [
         "Keke Rosberg",
         128,
         159.5,
         1.25
        ],
        [
         "Kevin Magnussen",
         120,
         158.0,
         1.32
        ],
        [
         "Lance Stroll",
         78,
         142.0,
         1.82
        ],
        [
         "Patrick Depailler",
         95,
         141.0,
         1.48
        ],
        [
         "Dan Gurney",
         87,
         133.0,
         1.53
        ],
        [
         "Thierry Boutsen",
         164,
         132.0,
         0.8
        ],
        [
         "Kamui Kobayashi",
         76,
         125.0,
         1.64
        ],
        [
         "Adrian Sutil",
         128,
         124.0,
         0.97
        ],
        [
         "Elio de Angelis",
         110,
         122.0,
         1.11
        ],
        [
         "Paul di Resta",
         59,
         121.0,
         2.05
        ],
        [
         "Jochen Rindt",
         62,
         109.0,
         1.76
        ],
        [
         "Gilles Villeneuve",
         68,
         107.0,
         1.57
        ],
        [
         "Richie Ginther",
         54,
         107.0,
         1.98
        ],
        [
         "Heikki Kovalainen",
         112,
         105.0,
         0.94
        ],
        [
         "Patrick Tambay",
         122,
         103.0,
         0.84
        ],
        [
         "Didier Pironi",
         72,
         101.0,
         1.4
        ],
        [
         "Martin Brundle",
         165,
         98.0,
         0.59
        ],
        [
         "Johnny Herbert",
         165,
         98.0,
         0.59
        ],
        [
         "Phil Hill",
         52,
         98.0,
         1.88
        ],
        [
         "Stefan Johansson",
         103,
         88.0,
         0.85
        ],
        [
         "Chris Amon",
         106,
         83.0,
         0.78
        ],
        [
         "Jean-Pierre Beltoise",
         87,
         77.0,
         0.89
        ],
        [
         "Olivier Panis",
         158,
         76.0,
         0.48
        ],
        [
         "Pastor Maldonado",
         96,
         76.0,
         0.79
        ],
        [
         "Maurice Trintignant",
         87,
         72.33000004291534,
         0.83
        ],
        [
         "Derek Warwick",
         162,
         71.0,
         0.44
        ],
        [
         "Pedro Rodríguez",
         54,
         71.0,
         1.31
        ],
        [
         "Jochen Mass",
         114,
         71.0,
         0.62
        ],
        [
         "Eddie Cheever",
         143,
         70.0,
         0.49
        ],
        [
         "Jo Siffert",
         100,
         68.0,
         0.68
        ],
        [
         "Alessandro Nannini",
         77,
         65.0,
         0.84
        ],
        [
         "Vitaly Petrov",
         58,
         64.0,
         1.1
        ],
        [
         "Andrea de Cesaris",
         214,
         59.0,
         0.28
        ],
        [
         "Carlos Pace",
         73,
         58.0,
         0.79
        ],
        [
         "Timo Glock",
         95,
         51.0,
         0.54
        ],
        [
         "Jean-Éric Vergne",
         58,
         51.0,
         0.88
        ],
        [
         "Jean Behra",
         57,
         51.0,
         0.89
        ],
        [
         "Innes Ireland",
         55,
         47.0,
         0.85
        ],
        [
         "Alexander Wurz",
         69,
         45.0,
         0.65
        ],
        [
         "Takuma Sato",
         91,
         44.0,
         0.48
        ],
        [
         "Jo Bonnier",
         109,
         39.0,
         0.36
        ],
        [
         "Pedro de la Rosa",
         107,
         35.0,
         0.33
        ],
        [
         "Mika Salo",
         111,
         33.0,
         0.3
        ],
        [
         "Mark Blundell",
         63,
         32.0,
         0.51
        ],
        [
         "Harry Schell",
         64,
         32.0,
         0.5
        ],
        [
         "Jean-Pierre Jarier",
         143,
         31.5,
         0.22
        ],
        [
         "Ivan Capelli",
         98,
         31.0,
         0.32
        ],
        [
         "Mike Hailwood",
         51,
         29.0,
         0.57
        ],
        [
         "Hans-Joachim Stuck",
         81,
         29.0,
         0.36
        ],
        [
         "Sébastien Buemi",
         55,
         29.0,
         0.53
        ],
        [
         "Vitantonio Liuzzi",
         81,
         26.0,
         0.32
        ],
        [
         "Teo Fabi",
         71,
         23.0,
         0.32
        ],
        [
         "Jean-Pierre Jabouille",
         55,
         21.0,
         0.38
        ],
        [
         "Roy Salvadori",
         51,
         19.0,
         0.37
        ],
        [
         "Pierluigi Martini",
         123,
         18.0,
         0.15
        ],
        [
         "Marcus Ericsson",
         97,
         18.0,
         0.19
        ],
        [
         "Stefano Modena",
         81,
         17.0,
         0.21
        ],
        [
         "Jos Verstappen",
         107,
         17.0,
         0.16
        ],
        [
         "Marc Surer",
         88,
         17.0,
         0.19
        ],
        [
         "Satoru Nakajima",
         80,
         16.0,
         0.2
        ],
        [
         "Vittorio Brambilla",
         78,
         15.5,
         0.2
        ],
        [
         "Roberto Moreno",
         74,
         15.0,
         0.2
        ],
        [
         "Derek Daly",
         64,
         15.0,
         0.23
        ],
        [
         "Bruno Giacomelli",
         82,
         14.0,
         0.17
        ],
        [
         "Christian Klien",
         51,
         14.0,
         0.27
        ],
        [
         "Jonathan Palmer",
         88,
         14.0,
         0.16
        ],
        [
         "Rolf Stommelen",
         61,
         14.0,
         0.23
        ],
        [
         "Hector Rebaque",
         58,
         13.0,
         0.22
        ],
        [
         "Jackie Oliver",
         51,
         13.0,
         0.25
        ],
        [
         "Henri Pescarolo",
         59,
         12.0,
         0.2
        ],
        [
         "Philippe Streiff",
         54,
         11.0,
         0.2
        ],
        [
         "Arturo Merzario",
         84,
         11.0,
         0.13
        ],
        [
         "Maurício Gugelmin",
         80,
         10.0,
         0.13
        ],
        [
         "Jyrki Järvilehto",
         70,
         10.0,
         0.14
        ],
        [
         "Pedro Diniz",
         99,
         10.0,
         0.1
        ],
        [
         "Gianni Morbidelli",
         70,
         8.5,
         0.12
        ],
        [
         "Aguri Suzuki",
         88,
         8.0,
         0.09
        ],
        [
         "Érik Comas",
         63,
         7.0,
         0.11
        ],
        [
         "Philippe Alliot",
         115,
         7.0,
         0.06
        ],
        [
         "Nicola Larini",
         75,
         7.0,
         0.09
        ],
        [
         "Alex Caffi",
         75,
         6.0,
         0.08
        ],
        [
         "Esteban Gutiérrez",
         59,
         6.0,
         0.1
        ],
        [
         "Bertrand Gachot",
         84,
         5.0,
         0.06
        ],
        [
         "Ukyo Katayama",
         97,
         5.0,
         0.05
        ],
        [
         "Piercarlo Ghinzani",
         111,
         2.0,
         0.02
        ],
        [
         "Manfred Winkelhock",
         55,
         2.0,
         0.04
        ],
        [
         "Olivier Grouillard",
         62,
         1.0,
         0.02
        ],
        [
         "Gabriele Tarquini",
         78,
         1.0,
         0.01
        ],
        [
         "Yannick Dalmas",
         50,
         0.0,
         0.0
        ],
        [
         "Luca Badoer",
         58,
         0.0,
         0.0
        ]
       ],
       "datasetInfos": [],
       "dbfsResultPath": null,
       "isJsonSchema": true,
       "metadata": {
        "isDbfsCommandResult": false
       },
       "overflow": false,
       "plotOptions": {
        "customPlotOptions": {},
        "displayType": "table",
        "pivotAggregation": null,
        "pivotColumns": null,
        "xColumns": null,
        "yColumns": null
       },
       "removedWidgets": [],
       "schema": [
        {
         "metadata": "{}",
         "name": "driver_name",
         "type": "\"string\""
        },
        {
         "metadata": "{}",
         "name": "tot_race",
         "type": "\"long\""
        },
        {
         "metadata": "{}",
         "name": "tot_points",
         "type": "\"double\""
        },
        {
         "metadata": "{}",
         "name": "avg_points",
         "type": "\"double\""
        }
       ],
       "type": "table"
      }
     },
     "output_type": "display_data"
    }
   ],
   "source": [
    "select driver_name,\n",
    "       count(1) as tot_race,\n",
    "       sum(points) as tot_points,\n",
    "       round(avg(points),2) as avg_points\n",
    "from f1_processed.race_results\n",
    "group by driver_name\n",
    "having count(1)>=50\n",
    "order by tot_points desc;"
   ]
  }
 ],
 "metadata": {
  "application/vnd.databricks.v1+notebook": {
   "computePreferences": null,
   "dashboards": [
    {
     "elements": [
      {
       "dashboardResultIndex": 0,
       "elementNUID": "0fd26a30-1730-42ee-8fc6-8f13783d7b98",
       "elementType": "command",
       "guid": "8f05f398-c29b-4e8b-a424-739350c3dbe2",
       "options": null,
       "position": {
        "height": 10,
        "width": 13,
        "x": 0,
        "y": 0,
        "z": null
       },
       "resultIndex": null
      }
     ],
     "globalVars": {},
     "guid": "",
     "layoutOption": {
      "grid": true,
      "stack": true
     },
     "nuid": "54f265bd-b614-4052-a58c-ccc7018969dd",
     "origId": 6983646596566044,
     "title": "Untitled",
     "version": "DashboardViewV1",
     "width": 1024
    }
   ],
   "environmentMetadata": null,
   "inputWidgetPreferences": null,
   "language": "sql",
   "notebookMetadata": {
    "pythonIndentUnit": 4
   },
   "notebookName": "9.viz_dominant_drivers",
   "widgets": {}
  },
  "language_info": {
   "name": "sql"
  }
 },
 "nbformat": 4,
 "nbformat_minor": 0
}